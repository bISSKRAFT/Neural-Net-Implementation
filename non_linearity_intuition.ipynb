{
 "cells": [
  {
   "cell_type": "code",
   "execution_count": 5,
   "metadata": {},
   "outputs": [],
   "source": [
    "import torch\n",
    "import torch.nn as nn\n",
    "\n",
    "relu = nn.ReLU()\n",
    "\n",
    "input_data = torch.tensor([[ 0.0401, -0.9005,  0.0397, -0.0876]])\n",
    "\n",
    "weight_1 = torch.tensor([[-0.1094, -0.8285,  0.0416, -1.1222],\n",
    "        [ 0.3327, -0.0461,  1.4473, -0.8070],\n",
    "        [ 0.0681, -0.7058, -1.8017,  0.5857],\n",
    "        [ 0.8764,  0.9618, -0.4505,  0.2888]])\n",
    "\n",
    "weight_2 = torch.tensor([[ 0.6856, -1.7650,  1.6375, -1.5759],\n",
    "        [-0.1092, -0.1620,  0.1951, -0.1169],\n",
    "        [-0.5120,  1.1997,  0.8483, -0.2476],\n",
    "        [-0.3369,  0.5617, -0.6658,  0.2221]])\n",
    "\n",
    "weight_3 = torch.tensor([[ 0.8824,  0.1268,  1.1951,  1.3061],\n",
    "        [-0.8753, -0.3277, -0.1454, -0.0167],\n",
    "        [ 0.3582,  0.3254, -1.8509, -1.4205],\n",
    "        [ 0.3786,  0.5999, -0.5665, -0.3975]])"
   ]
  },
  {
   "cell_type": "code",
   "execution_count": 6,
   "metadata": {},
   "outputs": [
    {
     "name": "stdout",
     "output_type": "stream",
     "text": [
      "tensor([[0.2653, 0.1311, 3.8219, 3.0032]])\n",
      "tensor([[0.2653, 0.1311, 3.8219, 3.0032]])\n"
     ]
    }
   ],
   "source": [
    "\n",
    "weight_composed = torch.mm(weight_1, weight_2)\n",
    "weight = torch.mm(weight_composed, weight_3)\n",
    "\n",
    "output_composed = torch.mm(input_data, weight)\n",
    "\n",
    "# now linearly \n",
    "\n",
    "hidden_1 = torch.mm(input_data, weight_1)\n",
    "hidden_2 = torch.mm(hidden_1, weight_2)\n",
    "output = torch.mm(hidden_2, weight_3)\n",
    "\n",
    "print(output_composed)\n",
    "print(output)"
   ]
  },
  {
   "cell_type": "code",
   "execution_count": 7,
   "metadata": {},
   "outputs": [
    {
     "name": "stdout",
     "output_type": "stream",
     "text": [
      "tensor([[-0.2117, -0.4782,  4.0438,  3.0417]])\n",
      "tensor([[-0.2770, -0.0345, -0.1410, -0.0664]])\n"
     ]
    }
   ],
   "source": [
    "# now with activation function\n",
    "\n",
    "import torch.nn as nn\n",
    "\n",
    "relu = nn.ReLU()\n",
    "\n",
    "hidden_composed_activated = relu(torch.mm(weight_1,weight_2))\n",
    "weight_composed_ = torch.mm(hidden_composed_activated, weight_3)\n",
    "output_composed_ = torch.mm(input_data, weight_composed_)\n",
    "\n",
    "# now linearly\n",
    "\n",
    "hidden_1_activated = relu(torch.mm(input_data, weight_1))\n",
    "hidden_2_activated = relu(torch.mm(hidden_1_activated, weight_2))\n",
    "output_ = torch.mm(hidden_2_activated, weight_3)\n",
    "\n",
    "print(output_composed_)\n",
    "print(output_)"
   ]
  },
  {
   "cell_type": "code",
   "execution_count": 4,
   "metadata": {},
   "outputs": [
    {
     "name": "stdout",
     "output_type": "stream",
     "text": [
      "tensor([[ 0.0401, -0.9005,  0.0397, -0.0876]])\n"
     ]
    }
   ],
   "source": [
    "print(input_data)"
   ]
  },
  {
   "cell_type": "code",
   "execution_count": 31,
   "metadata": {},
   "outputs": [
    {
     "data": {
      "text/plain": [
       "tensor([[0.1862, 0.5202, 0.8959, 0.9144, 0.5468]])"
      ]
     },
     "execution_count": 31,
     "metadata": {},
     "output_type": "execute_result"
    }
   ],
   "source": [
    "relu(input_data)"
   ]
  },
  {
   "cell_type": "code",
   "execution_count": null,
   "metadata": {},
   "outputs": [],
   "source": []
  }
 ],
 "metadata": {
  "kernelspec": {
   "display_name": "aki",
   "language": "python",
   "name": "python3"
  },
  "language_info": {
   "codemirror_mode": {
    "name": "ipython",
    "version": 3
   },
   "file_extension": ".py",
   "mimetype": "text/x-python",
   "name": "python",
   "nbconvert_exporter": "python",
   "pygments_lexer": "ipython3",
   "version": "3.9.13"
  },
  "orig_nbformat": 4,
  "vscode": {
   "interpreter": {
    "hash": "6fcb1a2d83e77089a7cc3362a18048c5ed5825a2b87e26d25cc8a5283557e461"
   }
  }
 },
 "nbformat": 4,
 "nbformat_minor": 2
}

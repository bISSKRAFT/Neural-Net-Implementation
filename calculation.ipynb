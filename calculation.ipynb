{
 "cells": [
  {
   "cell_type": "code",
   "execution_count": 4,
   "metadata": {},
   "outputs": [],
   "source": [
    "import numpy as np\n",
    "import matplotlib.pyplot as plt"
   ]
  },
  {
   "cell_type": "code",
   "execution_count": null,
   "metadata": {},
   "outputs": [],
   "source": []
  },
  {
   "cell_type": "code",
   "execution_count": 90,
   "metadata": {},
   "outputs": [],
   "source": [
    "class Neuralnetwork:\n",
    "    def __init__(self, inputnodes, hiddennodes, outputnodes, learningrate):\n",
    "        self.inputnodes = inputnodes\n",
    "        self.hiddennodes = hiddennodes\n",
    "        self.outputnodes = outputnodes\n",
    "        self.lr = learningrate\n",
    "\n",
    "        # weights between input and hidden layer (wih) and hidden and output layer (who) initalized\n",
    "        self.wih = np.random.random((self.hiddennodes, self.inputnodes))*2-1\n",
    "        print(\"hidden shape: \", self.wih.shape)\n",
    "        self.who = np.random.random((self.outputnodes, self.hiddennodes))*2-1\n",
    "        print(\"output shape: \", self.who.shape)\n",
    "\n",
    "        # activation function\n",
    "        self.activation_function = lambda x: 1/(1+np.exp(-x))\n",
    "        \n",
    "\n",
    "    def train(self, X, y) -> None:\n",
    "        ### Forward pass ###\n",
    "        input = np.array(X, ndmin=2).T\n",
    "        target = np.array(y, ndmin=2).T\n",
    "\n",
    "        # calculate signals into hidden layer\n",
    "        hidden_inputs = np.dot(self.wih, input)\n",
    "        hidden_outputs = self.activation_function(hidden_inputs)\n",
    "\n",
    "        # calculate signals into final output layer\n",
    "        final_inputs = np.dot(self.who, hidden_outputs)\n",
    "        final_outputs = self.activation_function(final_inputs)\n",
    "\n",
    "        ### Backward pass ###\n",
    "        # error\n",
    "        output_errors = target - final_outputs\n",
    "\n",
    "        # hidden layer error is the output_errors, split by weights, recombined at hidden nodes\n",
    "        hidden_errors = np.dot(self.who.T, output_errors)\n",
    "\n",
    "        # update the weights for the links between the hidden and output layers\n",
    "        self.who += self.lr * np.dot(\n",
    "            (output_errors * final_outputs * (1.0 - final_outputs)),\n",
    "            np.transpose(hidden_outputs)\n",
    "            )\n",
    "\n",
    "        # update the weights for the links between the input and hidden layers\n",
    "        self.wih += self.lr * np.dot(\n",
    "            (hidden_errors * hidden_outputs * (1.0 - hidden_outputs)),\n",
    "            np.transpose(input)\n",
    "            )\n",
    "        \n",
    "    def query(self, X) -> np.ndarray:\n",
    "        # convert input list to 2d array\n",
    "        inputs = np.array(X, ndmin=2).T\n",
    "\n",
    "        # calculate signals into hidden layer\n",
    "        hidden_inputs = np.dot(self.wih, inputs)\n",
    "\n",
    "        # calculate the signals emerging from hidden layer (more could be done with a loop)\n",
    "        hidden_outputs = self.activation_function(hidden_inputs)\n",
    "\n",
    "        # calculate signals into final output layer\n",
    "        final_inputs = np.dot(self.who, hidden_outputs)\n",
    "\n",
    "        # calculate the signals emerging from final output layer\n",
    "        final_outputs = self.activation_function(final_inputs)\n",
    "        return final_outputs\n",
    "\n",
    "    def _clean_predict_data(self,data):\n",
    "        all_values = data.split(',')\n",
    "        label = int(all_values[0])\n",
    "        given_number = (np.asfarray(all_values[1:]) / 255.0 * 0.99) + 0.01\n",
    "        predicted = n.query(given_number)\n",
    "        return label, np.argmax(predicted)\n",
    "\n",
    "    def test_network(self,data):\n",
    "        scorecard = []\n",
    "        for record in data:\n",
    "            label, predicted = self._clean_predict_data(record)\n",
    "            if label == predicted:\n",
    "                scorecard.append(1)\n",
    "            else:\n",
    "                scorecard.append(0)\n",
    "        print(\"performance: \", sum(scorecard)/len(scorecard))\n",
    "            "
   ]
  },
  {
   "attachments": {},
   "cell_type": "markdown",
   "metadata": {},
   "source": [
    "# Train Neural Net"
   ]
  },
  {
   "cell_type": "code",
   "execution_count": 63,
   "metadata": {},
   "outputs": [],
   "source": [
    "with open(\"./mnist/mnist_train.csv\") as f:\n",
    "    train_data = f.readlines()\n",
    "\n",
    "with open(\"./mnist/mnist_test.csv\") as f:\n",
    "    test_data = f.readlines()"
   ]
  },
  {
   "cell_type": "code",
   "execution_count": 64,
   "metadata": {},
   "outputs": [
    {
     "name": "stdout",
     "output_type": "stream",
     "text": [
      "label:  5\n"
     ]
    },
    {
     "data": {
      "image/png": "[encoded data removed]",
      "text/plain": [
       "<Figure size 640x480 with 1 Axes>"
      ]
     },
     "metadata": {},
     "output_type": "display_data"
    }
   ],
   "source": [
    "all_values = train_data[0].split(',')\n",
    "label = all_values[0]\n",
    "print(\"label: \", label)\n",
    "image_array = np.asfarray(all_values[1:]).reshape((28, 28))\n",
    "plt.imshow(image_array, cmap='Greys', interpolation='None')\n",
    "plt.show()"
   ]
  },
  {
   "cell_type": "code",
   "execution_count": 30,
   "metadata": {},
   "outputs": [],
   "source": [
    "# normalize data\n",
    "scaled_input = (np.asfarray(all_values[1:]) / 255.0 * 0.99) + 0.01"
   ]
  },
  {
   "cell_type": "code",
   "execution_count": 33,
   "metadata": {},
   "outputs": [
    {
     "name": "stdout",
     "output_type": "stream",
     "text": [
      "target:  [0.01 0.01 0.01 0.01 0.01 0.99 0.01 0.01 0.01 0.01]\n"
     ]
    }
   ],
   "source": [
    "# create target output\n",
    "target = np.zeros(10) + 0.01\n",
    "target[int(label)] = 0.99\n",
    "print(\"target: \", target)"
   ]
  },
  {
   "cell_type": "code",
   "execution_count": 93,
   "metadata": {},
   "outputs": [
    {
     "name": "stdout",
     "output_type": "stream",
     "text": [
      "hidden shape:  (100, 784)\n",
      "output shape:  (10, 100)\n"
     ]
    }
   ],
   "source": [
    "# create neural network\n",
    "input_nodes = 784\n",
    "hidden_nodes = 100\n",
    "output_nodes = 10\n",
    "learning_rate = 0.3\n",
    "\n",
    "n = Neuralnetwork(input_nodes, hidden_nodes, output_nodes, learning_rate)"
   ]
  },
  {
   "cell_type": "code",
   "execution_count": 39,
   "metadata": {},
   "outputs": [
    {
     "data": {
      "text/plain": [
       "array([[0.04655014],\n",
       "       [0.41899206],\n",
       "       [0.66851968],\n",
       "       [0.24718467],\n",
       "       [0.97680858],\n",
       "       [0.91396528],\n",
       "       [0.03407594],\n",
       "       [0.93211661],\n",
       "       [0.99963456],\n",
       "       [0.95025629]])"
      ]
     },
     "execution_count": 39,
     "metadata": {},
     "output_type": "execute_result"
    }
   ],
   "source": [
    "# generate random list of 784 values between 0 and 1\n",
    "rand_i = np.random.random((784))\n",
    "\n",
    "n.query(rand_i)"
   ]
  },
  {
   "cell_type": "code",
   "execution_count": 96,
   "metadata": {},
   "outputs": [
    {
     "data": {
      "text/plain": [
       "0.4667441570578942"
      ]
     },
     "execution_count": 96,
     "metadata": {},
     "output_type": "execute_result"
    }
   ],
   "source": [
    "# before training\n",
    "n.who[0,0]"
   ]
  },
  {
   "cell_type": "code",
   "execution_count": 94,
   "metadata": {},
   "outputs": [],
   "source": [
    "# train the network\n",
    "\n",
    "for record in train_data:\n",
    "    # split the record by the ',' commas\n",
    "    all_values = record.split(',')\n",
    "    # scale and shift the inputs\n",
    "    inputs = (np.asfarray(all_values[1:]) / 255.0 * 0.99) + 0.01\n",
    "    # create the target output values (all 0.01, except the desired label which is 0.99)\n",
    "    targets = np.zeros(output_nodes) + 0.01\n",
    "    # all_values[0] is the target label for this record\n",
    "    targets[int(all_values[0])] = 0.99\n",
    "    # train the network\n",
    "    n.train(inputs, targets)\n"
   ]
  },
  {
   "cell_type": "code",
   "execution_count": 95,
   "metadata": {},
   "outputs": [
    {
     "data": {
      "text/plain": [
       "0.4667441570578942"
      ]
     },
     "execution_count": 95,
     "metadata": {},
     "output_type": "execute_result"
    }
   ],
   "source": [
    "# after training\n",
    "n.who[0,0]"
   ]
  },
  {
   "attachments": {},
   "cell_type": "markdown",
   "metadata": {},
   "source": [
    "# Test des Netztes"
   ]
  },
  {
   "cell_type": "code",
   "execution_count": 65,
   "metadata": {},
   "outputs": [],
   "source": [
    "# test the network\n",
    "all_test_values = test_data[0].split(',')"
   ]
  },
  {
   "cell_type": "code",
   "execution_count": 66,
   "metadata": {},
   "outputs": [
    {
     "name": "stdout",
     "output_type": "stream",
     "text": [
      "label:  7\n"
     ]
    }
   ],
   "source": [
    "print(\"label: \", all_test_values[0])"
   ]
  },
  {
   "cell_type": "code",
   "execution_count": 67,
   "metadata": {},
   "outputs": [
    {
     "data": {
      "image/png": "[encoded data removed]",
      "text/plain": [
       "<Figure size 640x480 with 1 Axes>"
      ]
     },
     "metadata": {},
     "output_type": "display_data"
    }
   ],
   "source": [
    "plt.imshow(np.asfarray(all_test_values[1:]).reshape((28, 28)), cmap='Greys', interpolation='None')\n",
    "plt.show()"
   ]
  },
  {
   "cell_type": "code",
   "execution_count": 68,
   "metadata": {},
   "outputs": [],
   "source": [
    "predicted = n.query((np.asfarray(all_test_values[1:]) / 255.0 * 0.99) + 0.01)"
   ]
  },
  {
   "cell_type": "code",
   "execution_count": 69,
   "metadata": {},
   "outputs": [
    {
     "data": {
      "text/plain": [
       "array([[1.02718290e-03],\n",
       "       [2.59756804e-04],\n",
       "       [9.96705005e-04],\n",
       "       [2.80945538e-04],\n",
       "       [1.15931413e-02],\n",
       "       [6.88155179e-04],\n",
       "       [2.04913637e-03],\n",
       "       [9.92606120e-01],\n",
       "       [4.75489871e-04],\n",
       "       [2.54544712e-02]])"
      ]
     },
     "execution_count": 69,
     "metadata": {},
     "output_type": "execute_result"
    }
   ],
   "source": [
    "predicted"
   ]
  },
  {
   "cell_type": "code",
   "execution_count": 70,
   "metadata": {},
   "outputs": [
    {
     "name": "stdout",
     "output_type": "stream",
     "text": [
      "predicted:  7 actual:  7\n"
     ]
    }
   ],
   "source": [
    "print(\"predicted: \", np.argmax(predicted), \"actual: \", all_test_values[0])"
   ]
  },
  {
   "cell_type": "code",
   "execution_count": 77,
   "metadata": {},
   "outputs": [],
   "source": [
    "# test the network\n",
    "\n",
    "def clean_predict_data(data):\n",
    "    all_values = data.split(',')\n",
    "    label = int(all_values[0])\n",
    "    given_number = (np.asfarray(all_values[1:]) / 255.0 * 0.99) + 0.01\n",
    "    predicted = n.query(given_number)\n",
    "    return label, np.argmax(predicted)"
   ]
  },
  {
   "cell_type": "code",
   "execution_count": 83,
   "metadata": {},
   "outputs": [],
   "source": [
    "\n",
    "def test_network(data):\n",
    "    scorecard = []\n",
    "    for record in data:\n",
    "        label, predicted = clean_predict_data(record)\n",
    "        if label == predicted:\n",
    "            scorecard.append(1)\n",
    "        else:\n",
    "            scorecard.append(0)\n",
    "    print(\"performance: \", sum(scorecard)/len(scorecard))"
   ]
  },
  {
   "cell_type": "code",
   "execution_count": 97,
   "metadata": {},
   "outputs": [
    {
     "name": "stdout",
     "output_type": "stream",
     "text": [
      "performance:  0.9392\n"
     ]
    }
   ],
   "source": [
    "n.test_network(test_data)"
   ]
  },
  {
   "cell_type": "code",
   "execution_count": null,
   "metadata": {},
   "outputs": [],
   "source": []
  }
 ],
 "metadata": {
  "kernelspec": {
   "display_name": "aki",
   "language": "python",
   "name": "python3"
  },
  "language_info": {
   "codemirror_mode": {
    "name": "ipython",
    "version": 3
   },
   "file_extension": ".py",
   "mimetype": "text/x-python",
   "name": "python",
   "nbconvert_exporter": "python",
   "pygments_lexer": "ipython3",
   "version": "3.9.13 | packaged by conda-forge | (main, May 27 2022, 17:01:00) \n[Clang 13.0.1 ]"
  },
  "orig_nbformat": 4,
  "vscode": {
   "interpreter": {
    "hash": "6fcb1a2d83e77089a7cc3362a18048c5ed5825a2b87e26d25cc8a5283557e461"
   }
  }
 },
 "nbformat": 4,
 "nbformat_minor": 2
}
